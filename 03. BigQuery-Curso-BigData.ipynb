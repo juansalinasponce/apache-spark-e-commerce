{
 "cells": [
  {
   "cell_type": "markdown",
   "id": "8645498e",
   "metadata": {},
   "source": [
    "# Creación de Sesión"
   ]
  },
  {
   "cell_type": "code",
   "execution_count": 1,
   "id": "ec8813e6",
   "metadata": {
    "scrolled": true
   },
   "outputs": [],
   "source": [
    "from pyspark.sql import SparkSession"
   ]
  },
  {
   "cell_type": "code",
   "execution_count": 2,
   "id": "d19a0322",
   "metadata": {
    "scrolled": true
   },
   "outputs": [
    {
     "name": "stderr",
     "output_type": "stream",
     "text": [
      "Setting default log level to \"WARN\".\n",
      "To adjust logging level use sc.setLogLevel(newLevel). For SparkR, use setLogLevel(newLevel).\n",
      "22/04/04 19:43:46 INFO org.apache.spark.SparkEnv: Registering MapOutputTracker\n",
      "22/04/04 19:43:46 INFO org.apache.spark.SparkEnv: Registering BlockManagerMaster\n",
      "22/04/04 19:43:46 INFO org.apache.spark.SparkEnv: Registering BlockManagerMasterHeartbeat\n",
      "22/04/04 19:43:46 INFO org.apache.spark.SparkEnv: Registering OutputCommitCoordinator\n"
     ]
    }
   ],
   "source": [
    "spark = SparkSession.builder\\\n",
    "    .master('yarn')\\\n",
    "    .appName('spark-bigquery-demo')\\\n",
    "    .getOrCreate()"
   ]
  },
  {
   "cell_type": "markdown",
   "id": "c511ab24",
   "metadata": {},
   "source": [
    "## Archivos a Table en BigQuery"
   ]
  },
  {
   "cell_type": "code",
   "execution_count": 3,
   "id": "08c53732",
   "metadata": {},
   "outputs": [
    {
     "name": "stdout",
     "output_type": "stream",
     "text": [
      "Loaded 128 rows.\n"
     ]
    }
   ],
   "source": [
    "from google.cloud import bigquery\n",
    "\n",
    "client = bigquery.Client()\n",
    "\n",
    "# TODO: MODIFICAR EL NOMBRE DE TABLA DE BIGQUERY\n",
    "table_id = \"course-big-data-336218.curso_bigdata.cop_data \"\n",
    "\n",
    "job_config = bigquery.LoadJobConfig(write_disposition=bigquery.WriteDisposition.WRITE_TRUNCATE,\n",
    "                                    source_format=bigquery.SourceFormat.PARQUET,\n",
    "                                   )\n",
    "uri = \"gs://curso-bigdata/datalake/analytics/*.parquet\"\n",
    "\n",
    "load_job = client.load_table_from_uri(\n",
    "    uri, table_id, job_config=job_config\n",
    ")  \n",
    "\n",
    "load_job.result()\n",
    "\n",
    "destination_table = client.get_table(table_id)\n",
    "print(\"Loaded {} rows.\".format(destination_table.num_rows))"
   ]
  },
  {
   "cell_type": "markdown",
   "id": "5f411d69",
   "metadata": {},
   "source": [
    "### Verificación de filas"
   ]
  },
  {
   "cell_type": "code",
   "execution_count": 4,
   "id": "c2020954",
   "metadata": {},
   "outputs": [
    {
     "name": "stderr",
     "output_type": "stream",
     "text": [
      "                                                                                \r"
     ]
    },
    {
     "data": {
      "text/plain": [
       "128"
      ]
     },
     "execution_count": 4,
     "metadata": {},
     "output_type": "execute_result"
    }
   ],
   "source": [
    "# Load data from BigQuery.\n",
    "ruta_cop_data_analytics = \"gs://curso-bigdata/datalake/analytics/\"\n",
    "\n",
    "cop_data = spark.read.format('parquet') \\\n",
    "    .option('header','true') \\\n",
    "    .load(ruta_cop_data_analytics)\n",
    "cop_data.count()"
   ]
  }
 ],
 "metadata": {
  "hide_input": false,
  "kernelspec": {
   "display_name": "Python 3 (ipykernel)",
   "language": "python",
   "name": "python3"
  },
  "language_info": {
   "codemirror_mode": {
    "name": "ipython",
    "version": 3
   },
   "file_extension": ".py",
   "mimetype": "text/x-python",
   "name": "python",
   "nbconvert_exporter": "python",
   "pygments_lexer": "ipython3",
   "version": "3.7.11"
  }
 },
 "nbformat": 4,
 "nbformat_minor": 5
}
