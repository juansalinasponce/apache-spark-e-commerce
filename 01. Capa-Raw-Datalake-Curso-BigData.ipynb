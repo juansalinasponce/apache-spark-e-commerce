{
 "cells": [
  {
   "cell_type": "markdown",
   "id": "54c9cf4a",
   "metadata": {},
   "source": [
    "# Creación de Sesión"
   ]
  },
  {
   "cell_type": "markdown",
   "id": "f87d680b",
   "metadata": {},
   "source": [
    "1° PASO: Importamos módulos de apache spark"
   ]
  },
  {
   "cell_type": "code",
   "execution_count": 1,
   "id": "cc4b6eda",
   "metadata": {},
   "outputs": [],
   "source": [
    "from pyspark.sql import SparkSession\n",
    "from pyspark.sql.types import *\n",
    "from pyspark.sql.functions import *"
   ]
  },
  {
   "cell_type": "markdown",
   "id": "5c02e246",
   "metadata": {},
   "source": [
    "2° PASO: Creamos las session de apache spark en una variable"
   ]
  },
  {
   "cell_type": "code",
   "execution_count": 2,
   "id": "7b42f12a",
   "metadata": {},
   "outputs": [],
   "source": [
    "spark = SparkSession.builder\\\n",
    "    .master(\"local[*]\") \\\n",
    "    .config(\"spark.some.config.option\", \"some-value\") \\\n",
    "    .getOrCreate()"
   ]
  },
  {
   "cell_type": "markdown",
   "id": "2a43019f",
   "metadata": {},
   "source": [
    "3° PASO: Verificamos la versión de apache spark"
   ]
  },
  {
   "cell_type": "code",
   "execution_count": 3,
   "id": "bff33bbe",
   "metadata": {},
   "outputs": [
    {
     "data": {
      "text/html": [
       "\n",
       "            <div>\n",
       "                <p><b>SparkSession - hive</b></p>\n",
       "                \n",
       "        <div>\n",
       "            <p><b>SparkContext</b></p>\n",
       "\n",
       "            <p><a href=\"http://cluster-dev-esp-bigadata-2-m.c.course-big-data-336218.internal:45201\">Spark UI</a></p>\n",
       "\n",
       "            <dl>\n",
       "              <dt>Version</dt>\n",
       "                <dd><code>v3.1.2</code></dd>\n",
       "              <dt>Master</dt>\n",
       "                <dd><code>yarn</code></dd>\n",
       "              <dt>AppName</dt>\n",
       "                <dd><code>PySparkShell</code></dd>\n",
       "            </dl>\n",
       "        </div>\n",
       "        \n",
       "            </div>\n",
       "        "
      ],
      "text/plain": [
       "<pyspark.sql.session.SparkSession at 0x7f0f013db610>"
      ]
     },
     "execution_count": 3,
     "metadata": {},
     "output_type": "execute_result"
    }
   ],
   "source": [
    "spark"
   ]
  },
  {
   "cell_type": "markdown",
   "id": "fd9a5e30",
   "metadata": {},
   "source": [
    "# Poblando Capa Staging"
   ]
  },
  {
   "cell_type": "markdown",
   "id": "7145aca8",
   "metadata": {},
   "source": [
    "## Poblando 'Products'"
   ]
  },
  {
   "cell_type": "markdown",
   "id": "b4306064",
   "metadata": {},
   "source": [
    "4° PASO: Crear un dataframe\n",
    "\n",
    "1. Crear la estructura del dataframe\n",
    "2. Declarar en una variable la ruta del archivo\n",
    "3. Leer el archivo de origen\n",
    "4. Mostrar la estructura del dataframe\n",
    "5. Mostrar los datos del dataframe\n",
    "6. Cantidad de registros del dataframe\n",
    "7. Mostrar las estadísticas básicas de un campo determinado"
   ]
  },
  {
   "cell_type": "code",
   "execution_count": 4,
   "id": "a9e40813",
   "metadata": {},
   "outputs": [],
   "source": [
    "# 4.1 Estructura del dataframe.\n",
    "df_schema_products = StructType([\n",
    "    StructField(\"product_ID\", IntegerType(),True),\n",
    "    StructField(\"product_type\", StringType(),True),\n",
    "    StructField(\"product_name\", StringType(),True),\n",
    "    StructField(\"size\", StringType(),True),\n",
    "    StructField(\"colour\", StringType(),True),\n",
    "    StructField(\"price\", DoubleType(),True),\n",
    "    StructField(\"quantity\", IntegerType(),True),\n",
    "    StructField(\"description\", StringType(),True)\n",
    "])"
   ]
  },
  {
   "cell_type": "code",
   "execution_count": 5,
   "id": "aa1fb46e",
   "metadata": {},
   "outputs": [],
   "source": [
    "# 4.2 Definimos ruta del archivo\n",
    "#Archivo en Cloud Storage - Google Cloud Platform\n",
    "ruta_products = \"gs://curso-bigdata/datalake/raw/products.csv\""
   ]
  },
  {
   "cell_type": "code",
   "execution_count": 7,
   "id": "d2d23f05",
   "metadata": {},
   "outputs": [],
   "source": [
    "# 4.3 Leer el archivo de origen\n",
    "products = spark.read.format(\"CSV\")\\\n",
    "    .option(\"header\",\"true\")\\\n",
    "    .option(\"delimiter\",\",\")\\\n",
    "    .schema(df_schema_products)\\\n",
    "    .load(ruta_products)"
   ]
  },
  {
   "cell_type": "code",
   "execution_count": 8,
   "id": "f1b5b5f4",
   "metadata": {},
   "outputs": [
    {
     "name": "stdout",
     "output_type": "stream",
     "text": [
      "root\n",
      " |-- product_ID: integer (nullable = true)\n",
      " |-- product_type: string (nullable = true)\n",
      " |-- product_name: string (nullable = true)\n",
      " |-- size: string (nullable = true)\n",
      " |-- colour: string (nullable = true)\n",
      " |-- price: double (nullable = true)\n",
      " |-- quantity: integer (nullable = true)\n",
      " |-- description: string (nullable = true)\n",
      "\n"
     ]
    }
   ],
   "source": [
    "# 4.4 Mostramos la estructura del dataframe.\n",
    "products.printSchema()"
   ]
  },
  {
   "cell_type": "code",
   "execution_count": 9,
   "id": "feebb972",
   "metadata": {},
   "outputs": [
    {
     "name": "stderr",
     "output_type": "stream",
     "text": [
      "\r",
      "[Stage 0:>                                                          (0 + 1) / 1]\r"
     ]
    },
    {
     "name": "stdout",
     "output_type": "stream",
     "text": [
      "+----------+------------+------------+----+------+-----+--------+--------------------------------------------+\n",
      "|product_ID|product_type|product_name|size|colour|price|quantity|description                                 |\n",
      "+----------+------------+------------+----+------+-----+--------+--------------------------------------------+\n",
      "|0         |Shirt       |Oxford Cloth|XS  |red   |114.0|66      |A red coloured, XS sized, Oxford Cloth Shirt|\n",
      "|1         |Shirt       |Oxford Cloth|S   |red   |114.0|53      |A red coloured, S sized, Oxford Cloth Shirt |\n",
      "|2         |Shirt       |Oxford Cloth|M   |red   |114.0|54      |A red coloured, M sized, Oxford Cloth Shirt |\n",
      "|3         |Shirt       |Oxford Cloth|L   |red   |114.0|69      |A red coloured, L sized, Oxford Cloth Shirt |\n",
      "|4         |Shirt       |Oxford Cloth|XL  |red   |114.0|47      |A red coloured, XL sized, Oxford Cloth Shirt|\n",
      "+----------+------------+------------+----+------+-----+--------+--------------------------------------------+\n",
      "only showing top 5 rows\n",
      "\n"
     ]
    },
    {
     "name": "stderr",
     "output_type": "stream",
     "text": [
      "\r",
      "                                                                                \r"
     ]
    }
   ],
   "source": [
    "# 4.5 Mostraremos todas las columnas de las 5 primeras filas del dataframe.\n",
    "products.show(5,truncate=0)"
   ]
  },
  {
   "cell_type": "code",
   "execution_count": 10,
   "id": "2cfa7fb0",
   "metadata": {},
   "outputs": [
    {
     "name": "stdout",
     "output_type": "stream",
     "text": [
      "La cantidad de registro del dataframe es:  1260\n"
     ]
    }
   ],
   "source": [
    "# 4.6 Mostraremos todos los datos del dataframe.\n",
    "num_rows = products.count()\n",
    "print(\"La cantidad de registro del dataframe es: \", num_rows)"
   ]
  },
  {
   "cell_type": "code",
   "execution_count": 11,
   "id": "43c25bd2",
   "metadata": {},
   "outputs": [
    {
     "name": "stdout",
     "output_type": "stream",
     "text": [
      "+-------+------------------+\n",
      "|summary|             price|\n",
      "+-------+------------------+\n",
      "|  count|              1260|\n",
      "|   mean|105.80555555555556|\n",
      "| stddev| 9.704422855767938|\n",
      "|    min|              90.0|\n",
      "|    max|             119.0|\n",
      "+-------+------------------+\n",
      "\n"
     ]
    }
   ],
   "source": [
    "# 4.7 Estadísticas de un campo determinado.\n",
    "products.describe('price').show()"
   ]
  },
  {
   "cell_type": "markdown",
   "id": "cacc1206",
   "metadata": {},
   "source": [
    "5° PASO: Guardar el dataframe en un ruta de la capa staging"
   ]
  },
  {
   "cell_type": "code",
   "execution_count": 12,
   "id": "7124edef",
   "metadata": {},
   "outputs": [
    {
     "name": "stderr",
     "output_type": "stream",
     "text": [
      "                                                                                \r"
     ]
    }
   ],
   "source": [
    "# Guardar el dataframe en un ruta de la capa staging\n",
    "#Archivo en Cloud Storage - Google Cloud Platform\n",
    "ruta_products_staging = \"gs://curso-bigdata/datalake/staging/products/\"\n",
    "\n",
    "products.write.mode(\"overwrite\")\\\n",
    "    .format(\"parquet\")\\\n",
    "    .partitionBy(\"product_type\",\"size\")\\\n",
    "    .save(ruta_products_staging)"
   ]
  },
  {
   "cell_type": "markdown",
   "id": "5b927233",
   "metadata": {},
   "source": [
    "## Poblanco 'Customers'"
   ]
  },
  {
   "cell_type": "code",
   "execution_count": 13,
   "id": "c45b38d6",
   "metadata": {},
   "outputs": [],
   "source": [
    "# Estructura del dataframe.\n",
    "df_schema_customers = StructType([\n",
    "    StructField(\"customer_id\",IntegerType(),True),\n",
    "    StructField(\"customer_name\",StringType(),True),\n",
    "    StructField(\"gender\",StringType(),True),\n",
    "    StructField(\"age\",IntegerType(),True),\n",
    "    StructField(\"home_address\",StringType(),True),\n",
    "    StructField(\"zip_code\",IntegerType(),True),\n",
    "    StructField(\"city\",StringType(),True),\n",
    "    StructField(\"state\",StringType(),True),\n",
    "    StructField(\"country\",StringType(),True)\n",
    "])"
   ]
  },
  {
   "cell_type": "code",
   "execution_count": 14,
   "id": "e176ac15",
   "metadata": {},
   "outputs": [],
   "source": [
    "# Definimos ruta del archivo\n",
    "ruta_customers = \"gs://curso-bigdata/datalake/raw/customers.csv\""
   ]
  },
  {
   "cell_type": "code",
   "execution_count": 15,
   "id": "96239760",
   "metadata": {},
   "outputs": [],
   "source": [
    "# Leer el archivo de origen\n",
    "customers = spark.read.format(\"CSV\")\\\n",
    "    .option(\"header\",\"true\")\\\n",
    "    .option(\"delimiter\",\",\")\\\n",
    "    .schema(df_schema_customers)\\\n",
    "    .load(ruta_customers)"
   ]
  },
  {
   "cell_type": "code",
   "execution_count": 16,
   "id": "859eeef5",
   "metadata": {},
   "outputs": [
    {
     "name": "stdout",
     "output_type": "stream",
     "text": [
      "root\n",
      " |-- customer_id: integer (nullable = true)\n",
      " |-- customer_name: string (nullable = true)\n",
      " |-- gender: string (nullable = true)\n",
      " |-- age: integer (nullable = true)\n",
      " |-- home_address: string (nullable = true)\n",
      " |-- zip_code: integer (nullable = true)\n",
      " |-- city: string (nullable = true)\n",
      " |-- state: string (nullable = true)\n",
      " |-- country: string (nullable = true)\n",
      "\n"
     ]
    }
   ],
   "source": [
    "# Mostramos la estructura del dataframe.\n",
    "customers.printSchema()"
   ]
  },
  {
   "cell_type": "code",
   "execution_count": 17,
   "id": "fdd294b3",
   "metadata": {},
   "outputs": [
    {
     "name": "stdout",
     "output_type": "stream",
     "text": [
      "+-----------+-------------------+-----------+---+------------------------------+--------+-----------------+----------------------------+---------+\n",
      "|customer_id|customer_name      |gender     |age|home_address                  |zip_code|city             |state                       |country  |\n",
      "+-----------+-------------------+-----------+---+------------------------------+--------+-----------------+----------------------------+---------+\n",
      "|1          |Leanna Busson      |Female     |30 |8606 Victoria TerraceSuite 560|5464    |Johnstonhaven    |Northern Territory          |Australia|\n",
      "|2          |Zabrina Harrowsmith|Genderfluid|69 |8327 Kirlin SummitApt. 461    |8223    |New Zacharyfort  |South Australia             |Australia|\n",
      "|3          |Shina Dullaghan    |Polygender |59 |269 Gemma SummitSuite 109     |5661    |Aliburgh         |Australian Capital Territory|Australia|\n",
      "|4          |Hewet McVitie      |Bigender   |67 |743 Bailey GroveSuite 141     |1729    |South Justinhaven|Queensland                  |Australia|\n",
      "|5          |Rubia Ashleigh     |Polygender |30 |48 Hyatt ManorSuite 375       |4032    |Griffithsshire   |Queensland                  |Australia|\n",
      "+-----------+-------------------+-----------+---+------------------------------+--------+-----------------+----------------------------+---------+\n",
      "only showing top 5 rows\n",
      "\n"
     ]
    }
   ],
   "source": [
    "# Mostraremos todas las columnas de las 5 primeras filas del dataframe.\n",
    "customers.show(5,truncate=0)"
   ]
  },
  {
   "cell_type": "code",
   "execution_count": 18,
   "id": "0de56134",
   "metadata": {},
   "outputs": [
    {
     "name": "stdout",
     "output_type": "stream",
     "text": [
      "La cantidad de registro del dataframe es:  1000\n"
     ]
    }
   ],
   "source": [
    "# Mostraremos todos los datos del dataframe.\n",
    "num_rows = customers.count()\n",
    "print(\"La cantidad de registro del dataframe es: \", num_rows)"
   ]
  },
  {
   "cell_type": "code",
   "execution_count": 19,
   "id": "d637ca78",
   "metadata": {},
   "outputs": [
    {
     "name": "stdout",
     "output_type": "stream",
     "text": [
      "+-------+------------------+\n",
      "|summary|               age|\n",
      "+-------+------------------+\n",
      "|  count|              1000|\n",
      "|   mean|             49.86|\n",
      "| stddev|17.647828360618387|\n",
      "|    min|                20|\n",
      "|    max|                80|\n",
      "+-------+------------------+\n",
      "\n"
     ]
    }
   ],
   "source": [
    "# Estadísticas de un campo determinado.\n",
    "customers.describe('age').show()"
   ]
  },
  {
   "cell_type": "code",
   "execution_count": 22,
   "id": "7ac8f8af",
   "metadata": {},
   "outputs": [
    {
     "name": "stderr",
     "output_type": "stream",
     "text": [
      "                                                                                \r"
     ]
    }
   ],
   "source": [
    "# Guardar el dataframe en un ruta de la capa staging\n",
    "ruta_customers_staging = \"gs://curso-bigdata/datalake/staging/customers/\"\n",
    "\n",
    "customers.write.mode(\"overwrite\")\\\n",
    "    .format(\"parquet\")\\\n",
    "    .partitionBy(\"country\",\"state\",\"city\")\\\n",
    "    .save(ruta_customers_staging)"
   ]
  },
  {
   "cell_type": "markdown",
   "id": "924900b3",
   "metadata": {},
   "source": [
    "## Poblanco 'Orders'"
   ]
  },
  {
   "cell_type": "code",
   "execution_count": 23,
   "id": "58db32e7",
   "metadata": {},
   "outputs": [],
   "source": [
    "# Estructura del dataframe.\n",
    "df_schema_orders = StructType([\n",
    "    StructField(\"order_id\",IntegerType(),True),\n",
    "    StructField(\"customer_id\",IntegerType(),True),\n",
    "    StructField(\"payment\",DoubleType(),True),\n",
    "    StructField(\"order_date\",DateType(),True),\n",
    "    StructField(\"delivery_date\",DateType(),True)\n",
    "])"
   ]
  },
  {
   "cell_type": "code",
   "execution_count": 24,
   "id": "f5cc82e3",
   "metadata": {},
   "outputs": [],
   "source": [
    "# Definimos ruta del archivo\n",
    "ruta_orders = \"gs://curso-bigdata/datalake/raw/orders.csv\""
   ]
  },
  {
   "cell_type": "code",
   "execution_count": 25,
   "id": "ef092fc2",
   "metadata": {},
   "outputs": [],
   "source": [
    "# Leer el archivo de origen\n",
    "orders = spark.read.format(\"CSV\")\\\n",
    "    .option(\"header\",\"true\")\\\n",
    "    .option(\"delimiter\",\",\")\\\n",
    "    .schema(df_schema_orders)\\\n",
    "    .load(ruta_orders)"
   ]
  },
  {
   "cell_type": "code",
   "execution_count": 26,
   "id": "4c2d91cc",
   "metadata": {},
   "outputs": [
    {
     "name": "stdout",
     "output_type": "stream",
     "text": [
      "root\n",
      " |-- order_id: integer (nullable = true)\n",
      " |-- customer_id: integer (nullable = true)\n",
      " |-- payment: double (nullable = true)\n",
      " |-- order_date: date (nullable = true)\n",
      " |-- delivery_date: date (nullable = true)\n",
      "\n"
     ]
    }
   ],
   "source": [
    "# Mostramos la estructura del dataframe.\n",
    "orders.printSchema()"
   ]
  },
  {
   "cell_type": "code",
   "execution_count": 27,
   "id": "7c0c7d39",
   "metadata": {},
   "outputs": [
    {
     "name": "stderr",
     "output_type": "stream",
     "text": [
      "\r",
      "[Stage 16:>                                                         (0 + 1) / 1]\r"
     ]
    },
    {
     "name": "stdout",
     "output_type": "stream",
     "text": [
      "+--------+-----------+-------+----------+-------------+\n",
      "|order_id|customer_id|payment|order_date|delivery_date|\n",
      "+--------+-----------+-------+----------+-------------+\n",
      "|1       |64         |30811.0|2021-08-30|2021-09-24   |\n",
      "|2       |473        |50490.0|2021-02-03|2021-02-13   |\n",
      "|3       |774        |46763.0|2021-10-08|2021-11-03   |\n",
      "|4       |433        |39782.0|2021-05-06|2021-05-19   |\n",
      "|5       |441        |14719.0|2021-03-23|2021-03-24   |\n",
      "+--------+-----------+-------+----------+-------------+\n",
      "only showing top 5 rows\n",
      "\n"
     ]
    },
    {
     "name": "stderr",
     "output_type": "stream",
     "text": [
      "\r",
      "                                                                                \r"
     ]
    }
   ],
   "source": [
    "# Mostraremos todas las columnas de las 5 primeras filas del dataframe.\n",
    "orders.show(5,truncate=0)"
   ]
  },
  {
   "cell_type": "code",
   "execution_count": 28,
   "id": "2141cdd4",
   "metadata": {},
   "outputs": [
    {
     "name": "stdout",
     "output_type": "stream",
     "text": [
      "La cantidad de registro del dataframe es:  1000\n"
     ]
    }
   ],
   "source": [
    "# Mostraremos todos los datos del dataframe.\n",
    "num_rows = orders.count()\n",
    "print(\"La cantidad de registro del dataframe es: \", num_rows)"
   ]
  },
  {
   "cell_type": "code",
   "execution_count": 29,
   "id": "6312cabd",
   "metadata": {},
   "outputs": [
    {
     "name": "stdout",
     "output_type": "stream",
     "text": [
      "+-------+------------------+\n",
      "|summary|           payment|\n",
      "+-------+------------------+\n",
      "|  count|              1000|\n",
      "|   mean|         33972.936|\n",
      "| stddev|14451.609046882906|\n",
      "|    min|           10043.0|\n",
      "|    max|           59910.0|\n",
      "+-------+------------------+\n",
      "\n"
     ]
    }
   ],
   "source": [
    "# Estadísticas de un campo determinado.\n",
    "orders.describe('payment').show()"
   ]
  },
  {
   "cell_type": "code",
   "execution_count": 31,
   "id": "c399c0ad",
   "metadata": {},
   "outputs": [
    {
     "name": "stderr",
     "output_type": "stream",
     "text": [
      "                                                                                \r"
     ]
    }
   ],
   "source": [
    "# Guardar el dataframe en un ruta de la capa staging\n",
    "ruta_orders_staging = \"gs://curso-bigdata/datalake/staging/orders/\"\n",
    "\n",
    "# Del campo order-date se extrae el año y mes para usarlo como partición al momento de escribir \n",
    "orders = orders.withColumn('year',year(col('order_date')))\n",
    "orders = orders.withColumn('month',month(col('order_date')))\n",
    "\n",
    "orders.write.mode(\"overwrite\")\\\n",
    "    .format(\"parquet\")\\\n",
    "    .partitionBy(\"year\",\"month\")\\\n",
    "    .save(ruta_orders_staging)"
   ]
  }
 ],
 "metadata": {
  "hide_input": false,
  "kernelspec": {
   "display_name": "Python 3 (ipykernel)",
   "language": "python",
   "name": "python3"
  },
  "language_info": {
   "codemirror_mode": {
    "name": "ipython",
    "version": 3
   },
   "file_extension": ".py",
   "mimetype": "text/x-python",
   "name": "python",
   "nbconvert_exporter": "python",
   "pygments_lexer": "ipython3",
   "version": "3.7.11"
  }
 },
 "nbformat": 4,
 "nbformat_minor": 5
}
