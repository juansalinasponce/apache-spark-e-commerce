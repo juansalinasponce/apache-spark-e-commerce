{
 "cells": [
  {
   "cell_type": "markdown",
   "id": "fd5def7e",
   "metadata": {},
   "source": [
    "# Creando Sesión"
   ]
  },
  {
   "cell_type": "markdown",
   "id": "a94f4363",
   "metadata": {},
   "source": [
    "Importamos módulos de apache spark"
   ]
  },
  {
   "cell_type": "code",
   "execution_count": 1,
   "id": "fc0457c3",
   "metadata": {},
   "outputs": [],
   "source": [
    "from pyspark.sql import SparkSession\n",
    "from pyspark.sql.types import *\n",
    "from pyspark.sql.functions import *"
   ]
  },
  {
   "cell_type": "code",
   "execution_count": 2,
   "id": "41611d9f",
   "metadata": {},
   "outputs": [],
   "source": [
    "spark = SparkSession.builder.getOrCreate()"
   ]
  },
  {
   "cell_type": "markdown",
   "id": "041b3e15",
   "metadata": {},
   "source": [
    "# Poblando Capa Analytics"
   ]
  },
  {
   "cell_type": "markdown",
   "id": "6f3f978e",
   "metadata": {},
   "source": [
    "1° PASO Definimos ruta del archivo de la capa previa"
   ]
  },
  {
   "cell_type": "markdown",
   "id": "733d5ba2",
   "metadata": {},
   "source": [
    "## Poblando 'Products'"
   ]
  },
  {
   "cell_type": "code",
   "execution_count": 3,
   "id": "602bf6ec",
   "metadata": {},
   "outputs": [],
   "source": [
    "ruta_products_staging = \"gs://curso-bigdata/datalake/staging/products/\""
   ]
  },
  {
   "cell_type": "code",
   "execution_count": 4,
   "id": "ec0335b7",
   "metadata": {},
   "outputs": [
    {
     "name": "stderr",
     "output_type": "stream",
     "text": [
      "                                                                                \r"
     ]
    }
   ],
   "source": [
    "df_products = spark.read.format(\"parquet\").option(\"header\",\"true\").load(ruta_products_staging)"
   ]
  },
  {
   "cell_type": "markdown",
   "id": "6618c484",
   "metadata": {},
   "source": [
    "## Poblando 'Customers'"
   ]
  },
  {
   "cell_type": "code",
   "execution_count": 5,
   "id": "ecb8ba9c",
   "metadata": {},
   "outputs": [],
   "source": [
    "ruta_customers_staging = \"gs://curso-bigdata/datalake/staging/customers/\""
   ]
  },
  {
   "cell_type": "code",
   "execution_count": 6,
   "id": "2a90bc24",
   "metadata": {},
   "outputs": [
    {
     "name": "stderr",
     "output_type": "stream",
     "text": [
      "                                                                                \r"
     ]
    }
   ],
   "source": [
    "df_customers = spark.read.format(\"parquet\").option(\"header\",\"true\").load(ruta_customers_staging)"
   ]
  },
  {
   "cell_type": "markdown",
   "id": "b83af85e",
   "metadata": {},
   "source": [
    "## Poblando 'Orders'"
   ]
  },
  {
   "cell_type": "code",
   "execution_count": 7,
   "id": "ec9d9231",
   "metadata": {},
   "outputs": [],
   "source": [
    "ruta_orders_staging = \"gs://curso-bigdata/datalake/staging/orders/\""
   ]
  },
  {
   "cell_type": "code",
   "execution_count": 8,
   "id": "56e6a6b5",
   "metadata": {},
   "outputs": [],
   "source": [
    "df_orders = spark.read.format(\"parquet\").option(\"header\",\"true\").load(ruta_orders_staging)"
   ]
  },
  {
   "cell_type": "markdown",
   "id": "449afd1a",
   "metadata": {},
   "source": [
    "## Integrando información"
   ]
  },
  {
   "cell_type": "markdown",
   "id": "09ffe065",
   "metadata": {},
   "source": [
    "Creación de columna id, similar a una 'primary key' en una base de datos"
   ]
  },
  {
   "cell_type": "code",
   "execution_count": 9,
   "id": "46ee895e",
   "metadata": {},
   "outputs": [],
   "source": [
    "df_products = df_products.withColumn(\"id_p\", monotonically_increasing_id())"
   ]
  },
  {
   "cell_type": "code",
   "execution_count": 10,
   "id": "83e579be",
   "metadata": {},
   "outputs": [],
   "source": [
    "df_customers = df_customers.withColumn(\"id_c\", monotonically_increasing_id())\n",
    "# Renombramiento de columna para evitar ambiguedades en las columnas al momento de unirlas\n",
    "df_customers = df_customers.withColumnRenamed(\"customer_id\",\"customer_id_x\")"
   ]
  },
  {
   "cell_type": "code",
   "execution_count": 11,
   "id": "84f287eb",
   "metadata": {},
   "outputs": [],
   "source": [
    "df_orders = df_orders.withColumn(\"id_o\", monotonically_increasing_id())\n",
    "df_orders = df_orders.withColumnRenamed(\"customer_id\",\"customer_id_y\")"
   ]
  },
  {
   "cell_type": "markdown",
   "id": "74e1881f",
   "metadata": {},
   "source": [
    "El dataframe resultante de la unión se guardará en cop_data"
   ]
  },
  {
   "cell_type": "code",
   "execution_count": 12,
   "id": "baa64d33",
   "metadata": {},
   "outputs": [],
   "source": [
    "cust_order = df_customers.join(df_orders,df_customers.id_c == df_orders.id_o)"
   ]
  },
  {
   "cell_type": "code",
   "execution_count": 13,
   "id": "dbd6fad4",
   "metadata": {},
   "outputs": [],
   "source": [
    "cop_data = cust_order.join(df_products, cust_order.id_o == df_products.id_p)"
   ]
  },
  {
   "cell_type": "code",
   "execution_count": 14,
   "id": "5f4618e3",
   "metadata": {},
   "outputs": [
    {
     "name": "stdout",
     "output_type": "stream",
     "text": [
      "root\n",
      " |-- customer_id_x: integer (nullable = true)\n",
      " |-- customer_name: string (nullable = true)\n",
      " |-- gender: string (nullable = true)\n",
      " |-- age: integer (nullable = true)\n",
      " |-- home_address: string (nullable = true)\n",
      " |-- zip_code: integer (nullable = true)\n",
      " |-- country: string (nullable = true)\n",
      " |-- state: string (nullable = true)\n",
      " |-- city: string (nullable = true)\n",
      " |-- id_c: long (nullable = false)\n",
      " |-- order_id: integer (nullable = true)\n",
      " |-- customer_id_y: integer (nullable = true)\n",
      " |-- payment: double (nullable = true)\n",
      " |-- order_date: date (nullable = true)\n",
      " |-- delivery_date: date (nullable = true)\n",
      " |-- year: integer (nullable = true)\n",
      " |-- month: integer (nullable = true)\n",
      " |-- id_o: long (nullable = false)\n",
      " |-- product_ID: integer (nullable = true)\n",
      " |-- product_name: string (nullable = true)\n",
      " |-- colour: string (nullable = true)\n",
      " |-- price: double (nullable = true)\n",
      " |-- quantity: integer (nullable = true)\n",
      " |-- description: string (nullable = true)\n",
      " |-- product_type: string (nullable = true)\n",
      " |-- size: string (nullable = true)\n",
      " |-- id_p: long (nullable = false)\n",
      "\n"
     ]
    }
   ],
   "source": [
    "cop_data.printSchema()"
   ]
  },
  {
   "cell_type": "markdown",
   "id": "6a1b47d0",
   "metadata": {},
   "source": [
    "Agregando columnas que permitan un mejor manejo de la información así como la partición"
   ]
  },
  {
   "cell_type": "code",
   "execution_count": 15,
   "id": "ba711b71",
   "metadata": {},
   "outputs": [],
   "source": [
    "cop_data = cop_data.withColumn(\"sales\",cop_data.price * cop_data.quantity)"
   ]
  },
  {
   "cell_type": "code",
   "execution_count": 16,
   "id": "522190e3",
   "metadata": {},
   "outputs": [],
   "source": [
    "cop_data = cop_data.withColumn(\"year_order\",year(cop_data.order_date))\n",
    "cop_data = cop_data.withColumn(\"month_order\",month(cop_data.order_date))\n",
    "cop_data = cop_data.withColumn(\"day_order\",dayofmonth(cop_data.order_date))"
   ]
  },
  {
   "cell_type": "code",
   "execution_count": 17,
   "id": "9b160e53",
   "metadata": {},
   "outputs": [],
   "source": [
    "cop_data = cop_data.withColumn(\"year_delivery\",year(cop_data.delivery_date))\n",
    "cop_data = cop_data.withColumn(\"month_delivery\",month(cop_data.delivery_date))\n",
    "cop_data = cop_data.withColumn(\"day_delivery\",dayofmonth(cop_data.delivery_date))"
   ]
  },
  {
   "cell_type": "markdown",
   "id": "d75c085f",
   "metadata": {},
   "source": [
    "Eliminación de las columnas de id, ahora irrelevantes, solo necesarias para hacer las uniones"
   ]
  },
  {
   "cell_type": "code",
   "execution_count": 18,
   "id": "b2f63d5a",
   "metadata": {},
   "outputs": [],
   "source": [
    "cop_data = cop_data.drop(*[\"id_c\",\"id_o\",\"id_p\"])"
   ]
  },
  {
   "cell_type": "markdown",
   "id": "bd6f8842",
   "metadata": {},
   "source": [
    "### Guardando el dataframe resultante 'cop_data'"
   ]
  },
  {
   "cell_type": "code",
   "execution_count": 19,
   "id": "19c7dbc4",
   "metadata": {},
   "outputs": [
    {
     "name": "stderr",
     "output_type": "stream",
     "text": [
      "22/04/04 19:41:56 WARN org.apache.spark.sql.catalyst.util.package: Truncated the string representation of a plan since it was too large. This behavior can be adjusted by setting 'spark.sql.debug.maxToStringFields'.\n",
      "                                                                                \r"
     ]
    }
   ],
   "source": [
    "ruta_cop_data_analytics = \"gs://curso-bigdata/datalake/analytics/\"\n",
    "\n",
    "cop_data.write.mode(\"overwrite\")\\\n",
    "    .format(\"parquet\")\\\n",
    "    .save(ruta_cop_data_analytics)"
   ]
  }
 ],
 "metadata": {
  "hide_input": false,
  "kernelspec": {
   "display_name": "Python 3 (ipykernel)",
   "language": "python",
   "name": "python3"
  },
  "language_info": {
   "codemirror_mode": {
    "name": "ipython",
    "version": 3
   },
   "file_extension": ".py",
   "mimetype": "text/x-python",
   "name": "python",
   "nbconvert_exporter": "python",
   "pygments_lexer": "ipython3",
   "version": "3.7.11"
  }
 },
 "nbformat": 4,
 "nbformat_minor": 5
}
