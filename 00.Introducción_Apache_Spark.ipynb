{
  "nbformat": 4,
  "nbformat_minor": 0,
  "metadata": {
    "colab": {
      "name": "01 - Introducción Apache Spark.ipynb",
      "provenance": [],
      "collapsed_sections": [],
      "toc_visible": true,
      "authorship_tag": "ABX9TyMakm7ZK+esK9AA5QGg77iQ",
      "include_colab_link": true
    },
    "kernelspec": {
      "name": "python3",
      "display_name": "Python 3"
    }
  },
  "cells": [
    {
      "cell_type": "markdown",
      "metadata": {
        "id": "view-in-github",
        "colab_type": "text"
      },
      "source": [
        "<a href=\"https://colab.research.google.com/github/juansalinasponce/Curso_Introduccion_Apache_Spark/blob/main/01_Introducci%C3%B3n_Apache_Spark.ipynb\" target=\"_parent\"><img src=\"https://colab.research.google.com/assets/colab-badge.svg\" alt=\"Open In Colab\"/></a>"
      ]
    },
    {
      "cell_type": "markdown",
      "metadata": {
        "id": "wYHH2i9vpBYn"
      },
      "source": [
        "# **INTRODUCCIÓN APACHE SPARK**"
      ]
    },
    {
      "cell_type": "markdown",
      "metadata": {
        "id": "VR_zhiyhIO8z"
      },
      "source": [
        "**NOTA:** Solo para instalación en google colab"
      ]
    },
    {
      "cell_type": "code",
      "metadata": {
        "id": "z7bNV8b5tYUM"
      },
      "source": [
        "!apt-get install openjdk-8-jdk-headless -qq > /dev/null\n",
        "!wget -q https://www-us.apache.org/dist/spark/spark-3.0.1/spark-3.0.1-bin-hadoop2.7.tgz\n",
        "!tar xf spark-3.0.1-bin-hadoop2.7.tgz\n",
        "!pip install -q findspark"
      ],
      "execution_count": null,
      "outputs": []
    },
    {
      "cell_type": "code",
      "metadata": {
        "id": "My0j-CO4v_Hd"
      },
      "source": [
        "import os\n",
        "os.environ[\"JAVA_HOME\"] = \"/usr/lib/jvm/java-8-openjdk-amd64\"\n",
        "os.environ[\"SPARK_HOME\"] = \"/content/spark-3.0.1-bin-hadoop2.7\"\n",
        "import findspark\n",
        "findspark.init()"
      ],
      "execution_count": 33,
      "outputs": []
    },
    {
      "cell_type": "markdown",
      "metadata": {
        "id": "ROhqYAuUptub"
      },
      "source": [
        "**1° PASO:** Importamos módulos de apache spark"
      ]
    },
    {
      "cell_type": "code",
      "metadata": {
        "id": "fXh18AossYn8"
      },
      "source": [
        "from pyspark.sql import SparkSession\n",
        "from pyspark.sql.types import *\n"
      ],
      "execution_count": 68,
      "outputs": []
    },
    {
      "cell_type": "markdown",
      "metadata": {
        "id": "TOzNiPadstyx"
      },
      "source": [
        "**2° PASO:** Creamos las session de apache spark en una variable"
      ]
    },
    {
      "cell_type": "code",
      "metadata": {
        "id": "RWLVwn9mE_9H"
      },
      "source": [
        "spark = SparkSession.builder.master(\"local[*]\").getOrCreate()"
      ],
      "execution_count": 39,
      "outputs": []
    },
    {
      "cell_type": "markdown",
      "metadata": {
        "id": "WkslGWZmFsMV"
      },
      "source": [
        "**3° PASO:** Verificamos la versión de apache spark"
      ]
    },
    {
      "cell_type": "code",
      "metadata": {
        "id": "t8GRZ-qGFiCu",
        "outputId": "deb41773-e22b-445b-b88c-f1e68f975c53",
        "colab": {
          "base_uri": "https://localhost:8080/",
          "height": 216
        }
      },
      "source": [
        "spark"
      ],
      "execution_count": 40,
      "outputs": [
        {
          "output_type": "execute_result",
          "data": {
            "text/html": [
              "\n",
              "            <div>\n",
              "                <p><b>SparkSession - in-memory</b></p>\n",
              "                \n",
              "        <div>\n",
              "            <p><b>SparkContext</b></p>\n",
              "\n",
              "            <p><a href=\"http://fc1827ea5392:4040\">Spark UI</a></p>\n",
              "\n",
              "            <dl>\n",
              "              <dt>Version</dt>\n",
              "                <dd><code>v3.0.1</code></dd>\n",
              "              <dt>Master</dt>\n",
              "                <dd><code>local[*]</code></dd>\n",
              "              <dt>AppName</dt>\n",
              "                <dd><code>Test_spark</code></dd>\n",
              "            </dl>\n",
              "        </div>\n",
              "        \n",
              "            </div>\n",
              "        "
            ],
            "text/plain": [
              "<pyspark.sql.session.SparkSession at 0x7f36c40b6470>"
            ]
          },
          "metadata": {
            "tags": []
          },
          "execution_count": 40
        }
      ]
    },
    {
      "cell_type": "markdown",
      "metadata": {
        "id": "Ok8J7zRtF8zM"
      },
      "source": [
        "**4° PASO:** Crear un dataframe\n",
        "\n",
        "1.   Crear la estructura del dataframe\n",
        "2.   Declarar en una variable la ruta del archivo\n",
        "3.   Leer el archivo de origen\n",
        "4.   Mostrar la estructura del dataframe\n",
        "5.   mostrar los datos del dataframe\n",
        "6.   Cantidad de registros del dataframe\n",
        "7.   Mostrar las estadísticas básicas de un campo determinado\n",
        "\n"
      ]
    },
    {
      "cell_type": "code",
      "metadata": {
        "id": "ruF6e9rmG9kW"
      },
      "source": [
        "# 4.1 Estructura del dataframe.\n",
        "df_schema = StructType([\n",
        "StructField(\"ID\", StringType(),True),\n",
        "StructField(\"NOMBRE\", StringType(),True),\n",
        "StructField(\"TELEFONO\", StringType(),True),\n",
        "StructField(\"CORREO\", StringType(),True),\n",
        "StructField(\"FECHA_INGRESO\", StringType(),True),\n",
        "StructField(\"EDAD\", IntegerType(),True),\n",
        "StructField(\"SALARIO\", DoubleType(),True),\n",
        "StructField(\"ID_EMPRESA\", StringType(),True),\n",
        "])\n",
        "\n",
        "# 4.2 Definimos ruta del archivo\n",
        "ruta = \"/content/persona.data\"\n",
        "\n",
        "#4.3 Definimos ruta del archivo\n",
        "df_with_schema = spark.read.format(\"CSV\").option(\"header\",\"true\").option(\"delimiter\",\"|\").schema(df_schema).load(ruta)"
      ],
      "execution_count": 103,
      "outputs": []
    },
    {
      "cell_type": "code",
      "metadata": {
        "id": "9Ms5T3NtJOA7",
        "outputId": "d717347f-a8b4-407a-dd2b-c5f7988cbf5c",
        "colab": {
          "base_uri": "https://localhost:8080/",
          "height": 187
        }
      },
      "source": [
        "#4.4 Mostramos la estructura del dataframe.\n",
        "df_with_schema.printSchema()"
      ],
      "execution_count": 104,
      "outputs": [
        {
          "output_type": "stream",
          "text": [
            "root\n",
            " |-- ID: string (nullable = true)\n",
            " |-- NOMBRE: string (nullable = true)\n",
            " |-- TELEFONO: string (nullable = true)\n",
            " |-- CORREO: string (nullable = true)\n",
            " |-- FECHA_INGRESO: string (nullable = true)\n",
            " |-- EDAD: integer (nullable = true)\n",
            " |-- SALARIO: double (nullable = true)\n",
            " |-- ID_EMPRESA: string (nullable = true)\n",
            "\n"
          ],
          "name": "stdout"
        }
      ]
    },
    {
      "cell_type": "code",
      "metadata": {
        "id": "tNobqNS3KFEP",
        "outputId": "dd0f6a43-f8b4-4436-82af-f91bb000b8e2",
        "colab": {
          "base_uri": "https://localhost:8080/",
          "height": 204
        }
      },
      "source": [
        "# 4.5 Mostraremos todos los datos del dataframe.\n",
        "df_with_schema.show(5)"
      ],
      "execution_count": 51,
      "outputs": [
        {
          "output_type": "stream",
          "text": [
            "+---+---------+--------------+--------------------+-------------+----+-------+----------+\n",
            "| ID|   NOMBRE|      TELEFONO|              CORREO|FECHA_INGRESO|EDAD|SALARIO|ID_EMPRESA|\n",
            "+---+---------+--------------+--------------------+-------------+----+-------+----------+\n",
            "|  1|     Carl|1-745-633-9145|arcu.Sed.et@ante....|   2004-04-23|  32|20095.0|         5|\n",
            "|  2|Priscilla|      155-2498|Donec.egestas.Ali...|   2019-02-17|  34| 9298.0|         2|\n",
            "|  3|  Jocelyn|1-204-956-8594|amet.diam@loborti...|   2002-08-01|  27|10853.0|         3|\n",
            "|  4|    Aidan|1-719-862-9385|euismod.et.commod...|   2018-11-06|  29| 3387.0|        10|\n",
            "|  5|  Leandra|      839-8044|at@pretiumetrutru...|   2002-10-10|  41|22102.0|         1|\n",
            "+---+---------+--------------+--------------------+-------------+----+-------+----------+\n",
            "only showing top 5 rows\n",
            "\n"
          ],
          "name": "stdout"
        }
      ]
    },
    {
      "cell_type": "code",
      "metadata": {
        "id": "wHgFSShPKcax",
        "outputId": "c20426c2-ad55-4be1-9826-631eb29f8f76",
        "colab": {
          "base_uri": "https://localhost:8080/",
          "height": 34
        }
      },
      "source": [
        "# 4.6 Mostraremos todos los datos del dataframe.\n",
        "num_rows = df_with_schema.count()\n",
        "\n",
        "print(\"La cantidad de registro del dataframe es: \", num_rows)"
      ],
      "execution_count": 53,
      "outputs": [
        {
          "output_type": "stream",
          "text": [
            "La cantidad de registro del dataframe es:  100\n"
          ],
          "name": "stdout"
        }
      ]
    },
    {
      "cell_type": "code",
      "metadata": {
        "id": "lGNZ7Oz8LtCf",
        "outputId": "1e59e8f6-811c-4eac-a177-3fac6cbc1d61",
        "colab": {
          "base_uri": "https://localhost:8080/",
          "height": 187
        }
      },
      "source": [
        "# 4.7 Estadísticas de un campo determinado.\n",
        "df_with_schema.describe('salario').show()"
      ],
      "execution_count": 57,
      "outputs": [
        {
          "output_type": "stream",
          "text": [
            "+-------+-----------------+\n",
            "|summary|          salario|\n",
            "+-------+-----------------+\n",
            "|  count|              100|\n",
            "|   mean|         11684.55|\n",
            "| stddev|6841.493958437246|\n",
            "|    min|           1256.0|\n",
            "|    max|          24575.0|\n",
            "+-------+-----------------+\n",
            "\n"
          ],
          "name": "stdout"
        }
      ]
    },
    {
      "cell_type": "markdown",
      "metadata": {
        "id": "JS3Uut5zMYGj"
      },
      "source": [
        "**5° PASO:** Crear un nuevo dataframe de clientes utlizando como base el dataframe previamente creado.\n",
        "\n",
        "\n",
        "1.   Crear el dataframe con la información de cliente\n",
        "2.   Mostrar el esquema del dataframe de clientes\n",
        "3.   Mostrar los datos del dataframe de clientes\n",
        "\n"
      ]
    },
    {
      "cell_type": "code",
      "metadata": {
        "id": "0lL1sg7RNAfC"
      },
      "source": [
        "# 5.1 creamos el dataframe de cliente\n",
        "df_cliente = df_with_schema.select(\"ID\",\"NOMBRE\",\"TELEFONO\",\"CORREO\",\"EDAD\",\"SALARIO\")"
      ],
      "execution_count": 59,
      "outputs": []
    },
    {
      "cell_type": "code",
      "metadata": {
        "id": "E01w4freOFAb",
        "outputId": "ebd2ff3f-9c39-4d9d-83a8-b501f7b54cfc",
        "colab": {
          "base_uri": "https://localhost:8080/",
          "height": 153
        }
      },
      "source": [
        "# 5.2 Mostraremos el esquema\n",
        "df_cliente.printSchema()"
      ],
      "execution_count": 60,
      "outputs": [
        {
          "output_type": "stream",
          "text": [
            "root\n",
            " |-- ID: string (nullable = true)\n",
            " |-- NOMBRE: string (nullable = true)\n",
            " |-- TELEFONO: string (nullable = true)\n",
            " |-- CORREO: string (nullable = true)\n",
            " |-- EDAD: integer (nullable = true)\n",
            " |-- SALARIO: double (nullable = true)\n",
            "\n"
          ],
          "name": "stdout"
        }
      ]
    },
    {
      "cell_type": "code",
      "metadata": {
        "id": "lRQDXgjEOYEg",
        "outputId": "b13bc28c-1b56-4dec-f257-dc70a1238ed8",
        "colab": {
          "base_uri": "https://localhost:8080/",
          "height": 459
        }
      },
      "source": [
        "# 5.3 Mostraremos los datos del dataframe de clientes\n",
        "df_cliente.show()"
      ],
      "execution_count": 61,
      "outputs": [
        {
          "output_type": "stream",
          "text": [
            "+---+---------+--------------+--------------------+----+-------+\n",
            "| ID|   NOMBRE|      TELEFONO|              CORREO|EDAD|SALARIO|\n",
            "+---+---------+--------------+--------------------+----+-------+\n",
            "|  1|     Carl|1-745-633-9145|arcu.Sed.et@ante....|  32|20095.0|\n",
            "|  2|Priscilla|      155-2498|Donec.egestas.Ali...|  34| 9298.0|\n",
            "|  3|  Jocelyn|1-204-956-8594|amet.diam@loborti...|  27|10853.0|\n",
            "|  4|    Aidan|1-719-862-9385|euismod.et.commod...|  29| 3387.0|\n",
            "|  5|  Leandra|      839-8044|at@pretiumetrutru...|  41|22102.0|\n",
            "|  6|     Bert|      797-4453|a.felis.ullamcorp...|  70| 7800.0|\n",
            "|  7|     Mark|1-680-102-6792|Quisque.ac@placer...|  52| 8112.0|\n",
            "|  8|    Jonah|      214-2975|eu.ultrices.sit@v...|  23|17040.0|\n",
            "|  9|    Hanae|      935-2277|          eu@Nunc.ca|  69| 6834.0|\n",
            "| 10|   Cadman|1-866-561-2701|orci.adipiscing.n...|  19| 7996.0|\n",
            "| 11|  Melyssa|      596-7736|vel@vulputateposu...|  48| 4913.0|\n",
            "| 12|   Tanner|1-739-776-7897|arcu.Aliquam.ultr...|  24|19943.0|\n",
            "| 13|   Trevor|      512-1955|Nunc.quis.arcu@eg...|  34| 9501.0|\n",
            "| 14|    Allen|      733-2795|felis.Donec@necle...|  59|16289.0|\n",
            "| 15|    Wanda|      359-6973|Nam.nulla.magna@I...|  27| 1539.0|\n",
            "| 16|    Alden|      341-8522|odio@morbitristiq...|  26| 3377.0|\n",
            "| 17|     Omar|      720-1543|Phasellus.vitae.m...|  60| 6851.0|\n",
            "| 18|     Owen|1-167-335-7541|     sociis@erat.com|  34| 4759.0|\n",
            "| 19|    Laura|1-974-623-2057|    mollis@ornare.ca|  70|17403.0|\n",
            "| 20|    Emery|1-672-840-0264|     at.nisi@vel.org|  24|18752.0|\n",
            "+---+---------+--------------+--------------------+----+-------+\n",
            "only showing top 20 rows\n",
            "\n"
          ],
          "name": "stdout"
        }
      ]
    },
    {
      "cell_type": "markdown",
      "metadata": {
        "id": "2i6QunCCO6w0"
      },
      "source": [
        "**6° PASO:** Operaciones con el dataframe\n",
        "\n",
        "1.   Creando un nuevo campo \n",
        "2.   realizar una operacion en el nuevo campo\n",
        "\n"
      ]
    },
    {
      "cell_type": "code",
      "metadata": {
        "id": "LdE_CK3bPSmm",
        "outputId": "85dfe2ab-3e7a-41f8-d2be-bbdfb4ddf8a0",
        "colab": {
          "base_uri": "https://localhost:8080/",
          "height": 459
        }
      },
      "source": [
        "#6.1 Aumentar un 10% a todas los registros de la columna \"SALARIO\"\n",
        "from pyspark.sql.functions import col\n",
        "df_cliente_nuevos_salarios = df_cliente.withColumn( \"NUEVO_SALARIO\",col(\"salario\") * 1.10)\n",
        "df_cliente_nuevos_salarios.show()"
      ],
      "execution_count": 75,
      "outputs": [
        {
          "output_type": "stream",
          "text": [
            "+---+---------+--------------+--------------------+----+-------+------------------+\n",
            "| ID|   NOMBRE|      TELEFONO|              CORREO|EDAD|SALARIO|     NUEVO_SALARIO|\n",
            "+---+---------+--------------+--------------------+----+-------+------------------+\n",
            "|  1|     Carl|1-745-633-9145|arcu.Sed.et@ante....|  32|20095.0|           22104.5|\n",
            "|  2|Priscilla|      155-2498|Donec.egestas.Ali...|  34| 9298.0|10227.800000000001|\n",
            "|  3|  Jocelyn|1-204-956-8594|amet.diam@loborti...|  27|10853.0|11938.300000000001|\n",
            "|  4|    Aidan|1-719-862-9385|euismod.et.commod...|  29| 3387.0|3725.7000000000003|\n",
            "|  5|  Leandra|      839-8044|at@pretiumetrutru...|  41|22102.0|           24312.2|\n",
            "|  6|     Bert|      797-4453|a.felis.ullamcorp...|  70| 7800.0|            8580.0|\n",
            "|  7|     Mark|1-680-102-6792|Quisque.ac@placer...|  52| 8112.0|            8923.2|\n",
            "|  8|    Jonah|      214-2975|eu.ultrices.sit@v...|  23|17040.0|           18744.0|\n",
            "|  9|    Hanae|      935-2277|          eu@Nunc.ca|  69| 6834.0| 7517.400000000001|\n",
            "| 10|   Cadman|1-866-561-2701|orci.adipiscing.n...|  19| 7996.0|            8795.6|\n",
            "| 11|  Melyssa|      596-7736|vel@vulputateposu...|  48| 4913.0|            5404.3|\n",
            "| 12|   Tanner|1-739-776-7897|arcu.Aliquam.ultr...|  24|19943.0|21937.300000000003|\n",
            "| 13|   Trevor|      512-1955|Nunc.quis.arcu@eg...|  34| 9501.0|           10451.1|\n",
            "| 14|    Allen|      733-2795|felis.Donec@necle...|  59|16289.0|           17917.9|\n",
            "| 15|    Wanda|      359-6973|Nam.nulla.magna@I...|  27| 1539.0|            1692.9|\n",
            "| 16|    Alden|      341-8522|odio@morbitristiq...|  26| 3377.0|3714.7000000000003|\n",
            "| 17|     Omar|      720-1543|Phasellus.vitae.m...|  60| 6851.0|            7536.1|\n",
            "| 18|     Owen|1-167-335-7541|     sociis@erat.com|  34| 4759.0| 5234.900000000001|\n",
            "| 19|    Laura|1-974-623-2057|    mollis@ornare.ca|  70|17403.0|19143.300000000003|\n",
            "| 20|    Emery|1-672-840-0264|     at.nisi@vel.org|  24|18752.0|           20627.2|\n",
            "+---+---------+--------------+--------------------+----+-------+------------------+\n",
            "only showing top 20 rows\n",
            "\n"
          ],
          "name": "stdout"
        }
      ]
    },
    {
      "cell_type": "markdown",
      "metadata": {
        "id": "XqGThZa4SWda"
      },
      "source": [
        "**7° PASO:** Realizar filtros en el dataframe"
      ]
    },
    {
      "cell_type": "code",
      "metadata": {
        "id": "nx_boUe8S3Si",
        "outputId": "d5bbbaab-ffb9-4aec-82a2-40110e79d718",
        "colab": {
          "base_uri": "https://localhost:8080/",
          "height": 289
        }
      },
      "source": [
        "df_clientes_filtrados = df_cliente_nuevos_salarios.filter(df_cliente_nuevos_salarios['NUEVO_SALARIO'] > 10000)\n",
        "df_clientes_filtrados.show(10)"
      ],
      "execution_count": 80,
      "outputs": [
        {
          "output_type": "stream",
          "text": [
            "+---+---------+--------------+--------------------+----+-------+------------------+\n",
            "| ID|   NOMBRE|      TELEFONO|              CORREO|EDAD|SALARIO|     NUEVO_SALARIO|\n",
            "+---+---------+--------------+--------------------+----+-------+------------------+\n",
            "|  1|     Carl|1-745-633-9145|arcu.Sed.et@ante....|  32|20095.0|           22104.5|\n",
            "|  2|Priscilla|      155-2498|Donec.egestas.Ali...|  34| 9298.0|10227.800000000001|\n",
            "|  3|  Jocelyn|1-204-956-8594|amet.diam@loborti...|  27|10853.0|11938.300000000001|\n",
            "|  5|  Leandra|      839-8044|at@pretiumetrutru...|  41|22102.0|           24312.2|\n",
            "|  8|    Jonah|      214-2975|eu.ultrices.sit@v...|  23|17040.0|           18744.0|\n",
            "| 12|   Tanner|1-739-776-7897|arcu.Aliquam.ultr...|  24|19943.0|21937.300000000003|\n",
            "| 13|   Trevor|      512-1955|Nunc.quis.arcu@eg...|  34| 9501.0|           10451.1|\n",
            "| 14|    Allen|      733-2795|felis.Donec@necle...|  59|16289.0|           17917.9|\n",
            "| 19|    Laura|1-974-623-2057|    mollis@ornare.ca|  70|17403.0|19143.300000000003|\n",
            "| 20|    Emery|1-672-840-0264|     at.nisi@vel.org|  24|18752.0|           20627.2|\n",
            "+---+---------+--------------+--------------------+----+-------+------------------+\n",
            "only showing top 10 rows\n",
            "\n"
          ],
          "name": "stdout"
        }
      ]
    },
    {
      "cell_type": "markdown",
      "metadata": {
        "id": "xycYib3tTOCw"
      },
      "source": [
        ""
      ]
    },
    {
      "cell_type": "markdown",
      "metadata": {
        "id": "H2xgixMGTSlT"
      },
      "source": [
        "8° PASO: Ordenar el dataframe por una columna determinada\n",
        "\n",
        "1.   Ordenar por 1 campo\n",
        "2.   Ordenar por 2 campos\n",
        "\n"
      ]
    },
    {
      "cell_type": "code",
      "metadata": {
        "id": "gTV6Cg8RTZaH",
        "outputId": "68995aa5-8805-41a5-bef7-c2f7049ac92b",
        "colab": {
          "base_uri": "https://localhost:8080/",
          "height": 204
        }
      },
      "source": [
        "# Ordenados por 1 campo\n",
        "df_clientes_filtrados.orderBy('SALARIO').show(5)"
      ],
      "execution_count": 81,
      "outputs": [
        {
          "output_type": "stream",
          "text": [
            "+---+---------+--------------+--------------------+----+-------+------------------+\n",
            "| ID|   NOMBRE|      TELEFONO|              CORREO|EDAD|SALARIO|     NUEVO_SALARIO|\n",
            "+---+---------+--------------+--------------------+----+-------+------------------+\n",
            "| 90|Sigourney|      598-8806|    sit.amet@sem.net|  42| 9145.0|           10059.5|\n",
            "|  2|Priscilla|      155-2498|Donec.egestas.Ali...|  34| 9298.0|10227.800000000001|\n",
            "| 28|  Stephen|      326-2020|arcu.Aliquam.ultr...|  53| 9469.0|10415.900000000001|\n",
            "| 13|   Trevor|      512-1955|Nunc.quis.arcu@eg...|  34| 9501.0|           10451.1|\n",
            "| 30|  Clayton|1-599-614-5185|est.Nunc@dictumeu...|  52| 9505.0|           10455.5|\n",
            "+---+---------+--------------+--------------------+----+-------+------------------+\n",
            "only showing top 5 rows\n",
            "\n"
          ],
          "name": "stdout"
        }
      ]
    },
    {
      "cell_type": "code",
      "metadata": {
        "id": "pw0AJNEwUW8h",
        "outputId": "0c665455-deb8-465a-d028-8ad84cbf70b1",
        "colab": {
          "base_uri": "https://localhost:8080/",
          "height": 289
        }
      },
      "source": [
        "# Ordenados por 2 campo\n",
        "df_clientes_filtrados.orderBy('EDAD', 'SALARIO').show(10)"
      ],
      "execution_count": 91,
      "outputs": [
        {
          "output_type": "stream",
          "text": [
            "+---+-------+--------------+--------------------+----+-------+------------------+\n",
            "| ID| NOMBRE|      TELEFONO|              CORREO|EDAD|SALARIO|     NUEVO_SALARIO|\n",
            "+---+-------+--------------+--------------------+----+-------+------------------+\n",
            "| 94|   Amir|1-221-717-0093|dapibus.ligula@fa...|  18|20980.0|23078.000000000004|\n",
            "| 56|  Colby|1-517-827-8614|nec.ligula@eunequ...|  19|15496.0|17045.600000000002|\n",
            "| 92| Lesley|      973-4902|felis.adipiscing....|  19|23547.0|           25901.7|\n",
            "| 77| Brynne|1-357-977-8936|aliquet.nec.imper...|  22|16551.0|18206.100000000002|\n",
            "| 52| Whoopi|1-671-552-5009|      semper@Cras.ca|  22|23051.0|25356.100000000002|\n",
            "| 53|Zachery|      314-8083|hymenaeos.Mauris@...|  22|23820.0|26202.000000000004|\n",
            "| 71|  Doris|      508-8624|Curabitur.vel.lec...|  23|11538.0|12691.800000000001|\n",
            "|  8|  Jonah|      214-2975|eu.ultrices.sit@v...|  23|17040.0|           18744.0|\n",
            "| 20|  Emery|1-672-840-0264|     at.nisi@vel.org|  24|18752.0|           20627.2|\n",
            "| 12| Tanner|1-739-776-7897|arcu.Aliquam.ultr...|  24|19943.0|21937.300000000003|\n",
            "+---+-------+--------------+--------------------+----+-------+------------------+\n",
            "only showing top 10 rows\n",
            "\n"
          ],
          "name": "stdout"
        }
      ]
    },
    {
      "cell_type": "code",
      "metadata": {
        "id": "2FjL-cE4V95i",
        "outputId": "b5ccfb1d-daf8-4a4a-a853-eeb3ef98fecd",
        "colab": {
          "base_uri": "https://localhost:8080/",
          "height": 289
        }
      },
      "source": [
        "df_clientes_filtrados.sort(df_clientes_filtrados['EDAD'].desc()).show(10)"
      ],
      "execution_count": 89,
      "outputs": [
        {
          "output_type": "stream",
          "text": [
            "+---+--------+--------------+--------------------+----+-------+------------------+\n",
            "| ID|  NOMBRE|      TELEFONO|              CORREO|EDAD|SALARIO|     NUEVO_SALARIO|\n",
            "+---+--------+--------------+--------------------+----+-------+------------------+\n",
            "| 19|   Laura|1-974-623-2057|    mollis@ornare.ca|  70|17403.0|19143.300000000003|\n",
            "| 63|    Sade|      112-5494|       In@utquam.com|  70|11112.0|           12223.2|\n",
            "| 40|    Ross|      387-0945|amet.faucibus@ips...|  67|14285.0|15713.500000000002|\n",
            "| 82|   Cally|1-658-890-5167|        id@dolor.edu|  67|24575.0|27032.500000000004|\n",
            "| 39| Carolyn|      846-7060|metus.Aenean.sed@...|  64|22838.0|25121.800000000003|\n",
            "| 55|Jennifer|      755-6162|     id@ultrices.com|  64|19013.0|20914.300000000003|\n",
            "| 43|   Yetta|      986-0220|vitae@dapibusrutr...|  61|21452.0|           23597.2|\n",
            "| 14|   Allen|      733-2795|felis.Donec@necle...|  59|16289.0|           17917.9|\n",
            "| 95|   Jayme|1-641-113-8418|ornare.Fusce@tinc...|  58|23975.0|26372.500000000004|\n",
            "| 86|    Jack|      860-9554|parturient.montes...|  58|14473.0|15920.300000000001|\n",
            "+---+--------+--------------+--------------------+----+-------+------------------+\n",
            "only showing top 10 rows\n",
            "\n"
          ],
          "name": "stdout"
        }
      ]
    },
    {
      "cell_type": "markdown",
      "metadata": {
        "id": "NKYt02HQU0x0"
      },
      "source": [
        "9. Agrupando en el dataframe"
      ]
    },
    {
      "cell_type": "code",
      "metadata": {
        "id": "wupBwCXDVBsx",
        "outputId": "b9d66319-ea24-4028-fc6c-c50d150827e3",
        "colab": {
          "base_uri": "https://localhost:8080/",
          "height": 289
        }
      },
      "source": [
        "Agrupacion_por_edad = df_cliente_nuevos_salarios.groupBy(\"EDAD\").count()\n",
        "Agrupacion_por_edad.orderBy('EDAD').show(10)"
      ],
      "execution_count": 90,
      "outputs": [
        {
          "output_type": "stream",
          "text": [
            "+----+-----+\n",
            "|EDAD|count|\n",
            "+----+-----+\n",
            "|  18|    2|\n",
            "|  19|    4|\n",
            "|  22|    5|\n",
            "|  23|    2|\n",
            "|  24|    4|\n",
            "|  25|    2|\n",
            "|  26|    3|\n",
            "|  27|    5|\n",
            "|  28|    1|\n",
            "|  29|    2|\n",
            "+----+-----+\n",
            "only showing top 10 rows\n",
            "\n"
          ],
          "name": "stdout"
        }
      ]
    },
    {
      "cell_type": "markdown",
      "metadata": {
        "id": "xJ52V0NIYiFe"
      },
      "source": [
        "9° PASO: Guardar el dataframe en un ruta"
      ]
    },
    {
      "cell_type": "code",
      "metadata": {
        "id": "V_gg1SiZaQbY"
      },
      "source": [
        "ruta_destino = \"/content/datalake/landing/personas.parquet\"\n",
        "df_cliente_nuevos_salarios.write.mode(\"overwrite\").format(\"parquet\").save(ruta_destino)"
      ],
      "execution_count": 112,
      "outputs": []
    },
    {
      "cell_type": "markdown",
      "metadata": {
        "id": "SF4sNWFkYrzd"
      },
      "source": [
        "10° PASO: Leer el archivo parquet"
      ]
    },
    {
      "cell_type": "code",
      "metadata": {
        "id": "LNoqdN_GYyd-",
        "outputId": "1deaa1ce-d566-4bf8-d4e6-26b5b4f23ebc",
        "colab": {
          "base_uri": "https://localhost:8080/",
          "height": 289
        }
      },
      "source": [
        "#4.3 Definimos ruta del archivo\n",
        "\n",
        "df_with_schema_parquet = spark.read.format(\"parquet\").option(\"header\",\"true\").load(ruta_destino)\n",
        "df_with_schema_parquet.show(10)"
      ],
      "execution_count": 114,
      "outputs": [
        {
          "output_type": "stream",
          "text": [
            "+---+---------+--------------+--------------------+----+-------+------------------+\n",
            "| ID|   NOMBRE|      TELEFONO|              CORREO|EDAD|SALARIO|     NUEVO_SALARIO|\n",
            "+---+---------+--------------+--------------------+----+-------+------------------+\n",
            "|  1|     Carl|1-745-633-9145|arcu.Sed.et@ante....|  32|20095.0|           22104.5|\n",
            "|  2|Priscilla|      155-2498|Donec.egestas.Ali...|  34| 9298.0|10227.800000000001|\n",
            "|  3|  Jocelyn|1-204-956-8594|amet.diam@loborti...|  27|10853.0|11938.300000000001|\n",
            "|  4|    Aidan|1-719-862-9385|euismod.et.commod...|  29| 3387.0|3725.7000000000003|\n",
            "|  5|  Leandra|      839-8044|at@pretiumetrutru...|  41|22102.0|           24312.2|\n",
            "|  6|     Bert|      797-4453|a.felis.ullamcorp...|  70| 7800.0|            8580.0|\n",
            "|  7|     Mark|1-680-102-6792|Quisque.ac@placer...|  52| 8112.0|            8923.2|\n",
            "|  8|    Jonah|      214-2975|eu.ultrices.sit@v...|  23|17040.0|           18744.0|\n",
            "|  9|    Hanae|      935-2277|          eu@Nunc.ca|  69| 6834.0| 7517.400000000001|\n",
            "| 10|   Cadman|1-866-561-2701|orci.adipiscing.n...|  19| 7996.0|            8795.6|\n",
            "+---+---------+--------------+--------------------+----+-------+------------------+\n",
            "only showing top 10 rows\n",
            "\n"
          ],
          "name": "stdout"
        }
      ]
    }
  ]
}
